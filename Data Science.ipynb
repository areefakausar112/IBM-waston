{
    "cells": [
        {
            "cell_type": "markdown",
            "metadata": {
                "collapsed": true
            },
            "source": "# My Jupyter Notebook on IBM Watson Studio\n"
        },
        {
            "cell_type": "markdown",
            "metadata": {},
            "source": "**Areefa Kausar**\n \n Student\n"
        },
        {
            "cell_type": "markdown",
            "metadata": {},
            "source": "*I am interseted in Data Science coz \"Data science intrigues me as a beginner because \nit's a gateway to exploring and innovating with data.* \n\n*With machine learning, I can dive\ninto exciting possibilities, making it an ideal field for my curiosity and passion to\ngrow and contribute.*"
        },
        {
            "cell_type": "markdown",
            "metadata": {},
            "source": "### Code Description\nIn the following code cell (Cell 5), a simple calculation is performed. The code is designed to showcase the execution of a basic operation and its output.\n"
        },
        {
            "cell_type": "code",
            "execution_count": 4,
            "metadata": {},
            "outputs": [
                {
                    "name": "stdout",
                    "output_type": "stream",
                    "text": "2\n"
                }
            ],
            "source": "print (1+1)"
        },
        {
            "cell_type": "markdown",
            "metadata": {},
            "source": "### Markdown Cell with Lists and Hyperlink\n\n1. **Fav:**\n   - Book (Fav Non-fic)\n   - movies( Harry potter,Oppenheimer & A Space Odyssey)\n\n2. **Acad:**\n   1. Bio+CS nerd pep ( maths is everywhere so ofc)\n   2. ML+innovation stuff interested \n   3. Space realeted theorys & concepts \n\n3. **Hyperlink:**\n   - [Git hub repo of Areefa](https://github.com/areefakausar112?tab=repositories)\n\n![Potter,Hogwart things](https://i.pinimg.com/564x/c5/a3/36/c5a3365587ff0ba2206aa7406ddb9fc7.jpg)"
        },
        {
            "cell_type": "code",
            "execution_count": null,
            "metadata": {},
            "outputs": [],
            "source": ""
        }
    ],
    "metadata": {
        "kernelspec": {
            "display_name": "Python 3.10",
            "language": "python",
            "name": "python3"
        },
        "language_info": {
            "codemirror_mode": {
                "name": "ipython",
                "version": 3
            },
            "file_extension": ".py",
            "mimetype": "text/x-python",
            "name": "python",
            "nbconvert_exporter": "python",
            "pygments_lexer": "ipython3",
            "version": "3.10.13"
        }
    },
    "nbformat": 4,
    "nbformat_minor": 1
}